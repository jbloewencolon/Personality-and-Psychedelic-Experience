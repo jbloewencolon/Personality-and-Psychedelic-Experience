{
 "cells": [
  {
   "cell_type": "markdown",
   "metadata": {},
   "source": [
    "# Open to (Psychedelic) Experience\n",
    "\n",
    "<img src=https://www.midjourney.com/app/jobs/b448b01a-2f65-4c8e-9aff-fc3bc4e6ac30/ width='500'>\n",
    "    \n",
    "By Jordan Loewen-Colón May 30th 2023"
   ]
  },
  {
   "cell_type": "markdown",
   "metadata": {},
   "source": [
    "## The Business Problem\n",
    "\n",
    "The MindSpectrum Research Institute, a fictional entity, is deeply engaged in groundbreaking work involving the clinical trials of psychedelic-assisted therapies. These trials seek to gauge the safety and effectiveness of various psychedelic substances, including psilocybin, MDMA, LSD, Ketamine, and Cannabis. These substances, when used in conjunction with psychotherapy, are being tested as potential treatments for various mental health disorders, such as depression, anxiety, post-traumatic stress disorder (PTSD), and addiction.\n",
    "\n",
    "Our task is to assist the institute with its patient recruitment campaign, aiming to attract individuals who are not only afflicted by the targeted conditions, but are also open to the concept of psychedelic usage. The goal is to identify individuals who are naturally inclined towards trying psychedelics, without the need for excessive persuasion or influence.\n",
    "\n",
    "In this relatively nascent field of psychedelic science, it's critical for the institute to maintain a positive public image, hence there's an inherent need to ensure that trial participants are optimally suited. The ideal participant would display an inherent willingness to try psychedelics, indicating a certain level of curiosity and a potentially positive mindset, which in turn may contribute to improved trial outcomes.\n",
    "\n",
    "Our data science problem is to develop a predictive model focusing on 'precision' as the key performance indicator, aiming to minimize false positives in identifying potential trial participants. The institute prefers a focused approach, favoring a smaller, more reliable group of participants who are genuinely likely to experiment with psychedelics, rather than a larger group with unpredictable inclinations."
   ]
  },
  {
   "cell_type": "markdown",
   "metadata": {},
   "source": [
    "## Our Recommendations?\n",
    "\n",
    "MindSpectrum Research Institute should target individuals:\n",
    "\n",
    "1) Who score high on NEO-FFI-R Openness to experience, low on impulsiveness measured by BIS-11.\n",
    "\n",
    "2) Who have never taken Legal Highs (new substances), Nicotine, and Amyl Nitrites"
   ]
  },
  {
   "cell_type": "markdown",
   "metadata": {},
   "source": [
    "# Step 1: Data Understanding\n",
    "\n",
    "To make our recommendations, we analyzed the [Drug Consumptions (UCI)](https://www.kaggle.com/datasets/obeykhadija/drug-consumptions-uci) from Kaggle. As stated on the original database:\n",
    "\n",
    "\"The Database contains records for 1885 respondents. For each respondent 12 attributes are known: Personality measurements which include NEO-FFI-R (neuroticism, extraversion, openness to experience, agreeableness, and conscientiousness), BIS-11 (impulsivity), and ImpSS (sensation seeking), level of education, age, gender, country of residence and ethnicity. All input attributes are originally categorical and are quantified. After quantification values of all input features can be considered as real-valued. In addition, participants were questioned concerning their use of 18 legal and illegal drugs (alcohol, amphetamines, amyl nitrite, benzodiazepine, cannabis, chocolate, cocaine, caffeine, crack, ecstasy, heroin, ketamine, legal highs, LSD, methadone, mushrooms, nicotine and volatile substance abuse and one fictitious drug (Semeron) which was introduced to identify over-claimers. For each drug they have to select one of the answers: never used the drug, used it over a decade ago, or in the last decade, year, month, week, or day.\"\n",
    "\n",
    "_____\n",
    "\n",
    "We begin by importing the proper tools and then the data itself."
   ]
  },
  {
   "cell_type": "code",
   "execution_count": 1,
   "metadata": {},
   "outputs": [],
   "source": [
    "#Import libraries\n",
    "import pandas as pd\n",
    "import numpy as np\n",
    "import seaborn as sns\n",
    "import matplotlib.pyplot as plt\n",
    "import math\n",
    "\n",
    "from sklearn.model_selection import train_test_split, GridSearchCV, cross_val_score, RandomizedSearchCV\n",
    "from sklearn.linear_model import LogisticRegression\n",
    "from sklearn.pipeline import Pipeline\n",
    "from sklearn.preprocessing import StandardScaler, OneHotEncoder\n",
    "from sklearn.impute import SimpleImputer\n",
    "from sklearn.compose import ColumnTransformer\n",
    "from sklearn.ensemble import RandomForestClassifier, GradientBoostingClassifier\n",
    "from sklearn.metrics import classification_report, confusion_matrix, recall_score, accuracy_score, precision_score, f1_score, roc_auc_score\n",
    "from scipy.stats import uniform, randint, pointbiserialr, ttest_ind\n",
    "from tabulate import tabulate\n",
    "\n",
    "%matplotlib inline\n",
    "\n",
    "# Import the data\n",
    "df = pd.read_csv(r'D:\\Git\\phase_3\\Drug_Consumption.csv', header= 0,\n",
    "                        encoding= 'unicode_escape')"
   ]
  },
  {
   "cell_type": "code",
   "execution_count": 2,
   "metadata": {},
   "outputs": [
    {
     "data": {
      "text/html": [
       "<div>\n",
       "<style scoped>\n",
       "    .dataframe tbody tr th:only-of-type {\n",
       "        vertical-align: middle;\n",
       "    }\n",
       "\n",
       "    .dataframe tbody tr th {\n",
       "        vertical-align: top;\n",
       "    }\n",
       "\n",
       "    .dataframe thead th {\n",
       "        text-align: right;\n",
       "    }\n",
       "</style>\n",
       "<table border=\"1\" class=\"dataframe\">\n",
       "  <thead>\n",
       "    <tr style=\"text-align: right;\">\n",
       "      <th></th>\n",
       "      <th>ID</th>\n",
       "      <th>Age</th>\n",
       "      <th>Gender</th>\n",
       "      <th>Education</th>\n",
       "      <th>Country</th>\n",
       "      <th>Ethnicity</th>\n",
       "      <th>Nscore</th>\n",
       "      <th>Escore</th>\n",
       "      <th>Oscore</th>\n",
       "      <th>AScore</th>\n",
       "      <th>...</th>\n",
       "      <th>Ecstasy</th>\n",
       "      <th>Heroin</th>\n",
       "      <th>Ketamine</th>\n",
       "      <th>Legalh</th>\n",
       "      <th>LSD</th>\n",
       "      <th>Meth</th>\n",
       "      <th>Mushrooms</th>\n",
       "      <th>Nicotine</th>\n",
       "      <th>Semer</th>\n",
       "      <th>VSA</th>\n",
       "    </tr>\n",
       "  </thead>\n",
       "  <tbody>\n",
       "    <tr>\n",
       "      <th>0</th>\n",
       "      <td>2</td>\n",
       "      <td>25-34</td>\n",
       "      <td>M</td>\n",
       "      <td>Doctorate degree</td>\n",
       "      <td>UK</td>\n",
       "      <td>White</td>\n",
       "      <td>-0.67825</td>\n",
       "      <td>1.93886</td>\n",
       "      <td>1.43533</td>\n",
       "      <td>0.76096</td>\n",
       "      <td>...</td>\n",
       "      <td>CL4</td>\n",
       "      <td>CL0</td>\n",
       "      <td>CL2</td>\n",
       "      <td>CL0</td>\n",
       "      <td>CL2</td>\n",
       "      <td>CL3</td>\n",
       "      <td>CL0</td>\n",
       "      <td>CL4</td>\n",
       "      <td>CL0</td>\n",
       "      <td>CL0</td>\n",
       "    </tr>\n",
       "    <tr>\n",
       "      <th>1</th>\n",
       "      <td>3</td>\n",
       "      <td>35-44</td>\n",
       "      <td>M</td>\n",
       "      <td>Professional certificate/ diploma</td>\n",
       "      <td>UK</td>\n",
       "      <td>White</td>\n",
       "      <td>-0.46725</td>\n",
       "      <td>0.80523</td>\n",
       "      <td>-0.84732</td>\n",
       "      <td>-1.62090</td>\n",
       "      <td>...</td>\n",
       "      <td>CL0</td>\n",
       "      <td>CL0</td>\n",
       "      <td>CL0</td>\n",
       "      <td>CL0</td>\n",
       "      <td>CL0</td>\n",
       "      <td>CL0</td>\n",
       "      <td>CL1</td>\n",
       "      <td>CL0</td>\n",
       "      <td>CL0</td>\n",
       "      <td>CL0</td>\n",
       "    </tr>\n",
       "    <tr>\n",
       "      <th>2</th>\n",
       "      <td>4</td>\n",
       "      <td>18-24</td>\n",
       "      <td>F</td>\n",
       "      <td>Masters degree</td>\n",
       "      <td>UK</td>\n",
       "      <td>White</td>\n",
       "      <td>-0.14882</td>\n",
       "      <td>-0.80615</td>\n",
       "      <td>-0.01928</td>\n",
       "      <td>0.59042</td>\n",
       "      <td>...</td>\n",
       "      <td>CL0</td>\n",
       "      <td>CL0</td>\n",
       "      <td>CL2</td>\n",
       "      <td>CL0</td>\n",
       "      <td>CL0</td>\n",
       "      <td>CL0</td>\n",
       "      <td>CL0</td>\n",
       "      <td>CL2</td>\n",
       "      <td>CL0</td>\n",
       "      <td>CL0</td>\n",
       "    </tr>\n",
       "    <tr>\n",
       "      <th>3</th>\n",
       "      <td>5</td>\n",
       "      <td>35-44</td>\n",
       "      <td>F</td>\n",
       "      <td>Doctorate degree</td>\n",
       "      <td>UK</td>\n",
       "      <td>White</td>\n",
       "      <td>0.73545</td>\n",
       "      <td>-1.63340</td>\n",
       "      <td>-0.45174</td>\n",
       "      <td>-0.30172</td>\n",
       "      <td>...</td>\n",
       "      <td>CL1</td>\n",
       "      <td>CL0</td>\n",
       "      <td>CL0</td>\n",
       "      <td>CL1</td>\n",
       "      <td>CL0</td>\n",
       "      <td>CL0</td>\n",
       "      <td>CL2</td>\n",
       "      <td>CL2</td>\n",
       "      <td>CL0</td>\n",
       "      <td>CL0</td>\n",
       "    </tr>\n",
       "    <tr>\n",
       "      <th>4</th>\n",
       "      <td>6</td>\n",
       "      <td>65+</td>\n",
       "      <td>F</td>\n",
       "      <td>Left school at 18 years</td>\n",
       "      <td>Canada</td>\n",
       "      <td>White</td>\n",
       "      <td>-0.67825</td>\n",
       "      <td>-0.30033</td>\n",
       "      <td>-1.55521</td>\n",
       "      <td>2.03972</td>\n",
       "      <td>...</td>\n",
       "      <td>CL0</td>\n",
       "      <td>CL0</td>\n",
       "      <td>CL0</td>\n",
       "      <td>CL0</td>\n",
       "      <td>CL0</td>\n",
       "      <td>CL0</td>\n",
       "      <td>CL0</td>\n",
       "      <td>CL6</td>\n",
       "      <td>CL0</td>\n",
       "      <td>CL0</td>\n",
       "    </tr>\n",
       "  </tbody>\n",
       "</table>\n",
       "<p>5 rows × 32 columns</p>\n",
       "</div>"
      ],
      "text/plain": [
       "   ID    Age Gender                          Education Country Ethnicity  \\\n",
       "0   2  25-34      M                   Doctorate degree      UK     White   \n",
       "1   3  35-44      M  Professional certificate/ diploma      UK     White   \n",
       "2   4  18-24      F                     Masters degree      UK     White   \n",
       "3   5  35-44      F                   Doctorate degree      UK     White   \n",
       "4   6    65+      F            Left school at 18 years  Canada     White   \n",
       "\n",
       "    Nscore   Escore   Oscore   AScore  ...  Ecstasy  Heroin  Ketamine Legalh  \\\n",
       "0 -0.67825  1.93886  1.43533  0.76096  ...      CL4     CL0       CL2    CL0   \n",
       "1 -0.46725  0.80523 -0.84732 -1.62090  ...      CL0     CL0       CL0    CL0   \n",
       "2 -0.14882 -0.80615 -0.01928  0.59042  ...      CL0     CL0       CL2    CL0   \n",
       "3  0.73545 -1.63340 -0.45174 -0.30172  ...      CL1     CL0       CL0    CL1   \n",
       "4 -0.67825 -0.30033 -1.55521  2.03972  ...      CL0     CL0       CL0    CL0   \n",
       "\n",
       "   LSD Meth Mushrooms Nicotine Semer  VSA  \n",
       "0  CL2  CL3       CL0      CL4   CL0  CL0  \n",
       "1  CL0  CL0       CL1      CL0   CL0  CL0  \n",
       "2  CL0  CL0       CL0      CL2   CL0  CL0  \n",
       "3  CL0  CL0       CL2      CL2   CL0  CL0  \n",
       "4  CL0  CL0       CL0      CL6   CL0  CL0  \n",
       "\n",
       "[5 rows x 32 columns]"
      ]
     },
     "execution_count": 2,
     "metadata": {},
     "output_type": "execute_result"
    }
   ],
   "source": [
    "# Print the first five rows\n",
    "df.head()"
   ]
  },
  {
   "cell_type": "code",
   "execution_count": 3,
   "metadata": {},
   "outputs": [
    {
     "name": "stdout",
     "output_type": "stream",
     "text": [
      "(1884, 32)\n",
      "<class 'pandas.core.frame.DataFrame'>\n",
      "RangeIndex: 1884 entries, 0 to 1883\n",
      "Data columns (total 32 columns):\n",
      " #   Column     Non-Null Count  Dtype  \n",
      "---  ------     --------------  -----  \n",
      " 0   ID         1884 non-null   int64  \n",
      " 1   Age        1884 non-null   object \n",
      " 2   Gender     1884 non-null   object \n",
      " 3   Education  1884 non-null   object \n",
      " 4   Country    1884 non-null   object \n",
      " 5   Ethnicity  1884 non-null   object \n",
      " 6   Nscore     1884 non-null   float64\n",
      " 7   Escore     1884 non-null   float64\n",
      " 8   Oscore     1884 non-null   float64\n",
      " 9   AScore     1884 non-null   float64\n",
      " 10  Cscore     1884 non-null   float64\n",
      " 11  Impulsive  1884 non-null   float64\n",
      " 12  SS         1884 non-null   float64\n",
      " 13  Alcohol    1884 non-null   object \n",
      " 14  Amphet     1884 non-null   object \n",
      " 15  Amyl       1884 non-null   object \n",
      " 16  Benzos     1884 non-null   object \n",
      " 17  Caff       1884 non-null   object \n",
      " 18  Cannabis   1884 non-null   object \n",
      " 19  Choc       1884 non-null   object \n",
      " 20  Coke       1884 non-null   object \n",
      " 21  Crack      1884 non-null   object \n",
      " 22  Ecstasy    1884 non-null   object \n",
      " 23  Heroin     1884 non-null   object \n",
      " 24  Ketamine   1884 non-null   object \n",
      " 25  Legalh     1884 non-null   object \n",
      " 26  LSD        1884 non-null   object \n",
      " 27  Meth       1884 non-null   object \n",
      " 28  Mushrooms  1884 non-null   object \n",
      " 29  Nicotine   1884 non-null   object \n",
      " 30  Semer      1884 non-null   object \n",
      " 31  VSA        1884 non-null   object \n",
      "dtypes: float64(7), int64(1), object(24)\n",
      "memory usage: 471.1+ KB\n"
     ]
    }
   ],
   "source": [
    "# Check Data\n",
    "print(df.shape)\n",
    "df.info()"
   ]
  },
  {
   "cell_type": "markdown",
   "metadata": {},
   "source": [
    "The dataset has 1884 entries and 31 columns with a mix of floats and objects. The personality scores (6:12) is measured on a Likert-based scale ranging from 0 (“Strongly Disagree”) to 4 (“Strongly Agree”) and then rendered as a float. The demographics have various sub categories, and the drug values are measured by recency (if ever) the substance has been consumed; CL0 being never used, and CL6 being used in the last day."
   ]
  },
  {
   "cell_type": "code",
   "execution_count": 4,
   "metadata": {},
   "outputs": [
    {
     "name": "stdout",
     "output_type": "stream",
     "text": [
      "\n",
      " Nulls In Column \n",
      " ID           0\n",
      "Age          0\n",
      "Gender       0\n",
      "Education    0\n",
      "Country      0\n",
      "Ethnicity    0\n",
      "Nscore       0\n",
      "Escore       0\n",
      "Oscore       0\n",
      "AScore       0\n",
      "Cscore       0\n",
      "Impulsive    0\n",
      "SS           0\n",
      "Alcohol      0\n",
      "Amphet       0\n",
      "Amyl         0\n",
      "Benzos       0\n",
      "Caff         0\n",
      "Cannabis     0\n",
      "Choc         0\n",
      "Coke         0\n",
      "Crack        0\n",
      "Ecstasy      0\n",
      "Heroin       0\n",
      "Ketamine     0\n",
      "Legalh       0\n",
      "LSD          0\n",
      "Meth         0\n",
      "Mushrooms    0\n",
      "Nicotine     0\n",
      "Semer        0\n",
      "VSA          0\n",
      "dtype: int64\n",
      "\n",
      " Duplicates :- 0\n"
     ]
    }
   ],
   "source": [
    "# Check for missing values\n",
    "print(f\"\\n {'Nulls in Column'.title()} \\n {df.isnull().sum()}\")\n",
    "\n",
    "# Check for duplicate values\n",
    "print(f\"\\n {'Duplicates'.title()} :- {len(df.loc[df.duplicated()])}\")"
   ]
  },
  {
   "cell_type": "markdown",
   "metadata": {},
   "source": [
    "The data looks pretty clean! No duplicates or null values!"
   ]
  },
  {
   "cell_type": "markdown",
   "metadata": {},
   "source": [
    "----\n",
    "Looking at the data descriptions, a possible point of interest is the drug category \"Semeron.\" The data collectors created this fictitous class of drug to weed out people who would over identify drug use as a control. Checking the values of that column, it looks like there were only about 8 over-claimers."
   ]
  },
  {
   "cell_type": "code",
   "execution_count": 5,
   "metadata": {},
   "outputs": [
    {
     "name": "stdout",
     "output_type": "stream",
     "text": [
      "CL0    1876\n",
      "CL2       3\n",
      "CL1       2\n",
      "CL3       2\n",
      "CL4       1\n",
      "Name: Semer, dtype: int64\n"
     ]
    }
   ],
   "source": [
    "## Semeron values\n",
    "print(df['Semer'].value_counts())"
   ]
  },
  {
   "cell_type": "markdown",
   "metadata": {},
   "source": [
    "It also might be worth taking a look at the means and standard deviations of our personality trait columns."
   ]
  },
  {
   "cell_type": "code",
   "execution_count": 80,
   "metadata": {},
   "outputs": [
    {
     "name": "stdout",
     "output_type": "stream",
     "text": [
      "Mean values:\n",
      "Nscore      -0.000119\n",
      "Escore       0.000143\n",
      "Oscore      -0.000225\n",
      "AScore       0.000242\n",
      "Cscore      -0.000383\n",
      "Impulsive    0.007335\n",
      "SS          -0.002667\n",
      "dtype: float64\n"
     ]
    }
   ],
   "source": [
    "# Select columns 5 to 12\n",
    "selected_columns = df.iloc[:, 5:13]\n",
    "\n",
    "# Calculate mean and standard deviation\n",
    "mean_values = selected_columns.mean()\n",
    "\n",
    "# Display the results\n",
    "print(\"Mean values:\")\n",
    "print(mean_values)"
   ]
  },
  {
   "cell_type": "markdown",
   "metadata": {},
   "source": [
    "That Sensation Seeking scores highest in mean value seems to make sense."
   ]
  },
  {
   "cell_type": "markdown",
   "metadata": {},
   "source": [
    "## Step 2: Data Preperation"
   ]
  },
  {
   "cell_type": "markdown",
   "metadata": {},
   "source": [
    "Since we are looking to target just psychedelic drugs, we will create a column that only includes those drugs considered under the broad definition of psychedelics: cannabis, ecstasy, ketamine, LSD, and mushrooms."
   ]
  },
  {
   "cell_type": "code",
   "execution_count": 6,
   "metadata": {},
   "outputs": [],
   "source": [
    "#Create our Target Column\n",
    "df_p = df.copy()\n",
    "df_p = df_p.drop(columns=['ID'])\n",
    "df_p['Psychedelics'] = ''\n",
    "Psychedelics = ['Cannabis','Ecstasy','Ketamine','LSD','Mushrooms']\n",
    "\n",
    "# Create a function that determines whether or not someone has consumed a psychedelic\n",
    "for i in range(0, len(df_p)):\n",
    "    tot = 0\n",
    "    for n in Psychedelics:\n",
    "        if df_p[n][i] != \"CL0\":\n",
    "            tot = tot + 1\n",
    "        if tot > 0:\n",
    "            df_p['Psychedelics'].iat[i] = 1\n",
    "        else:\n",
    "            df_p['Psychedelics'].iat[i] = 0"
   ]
  },
  {
   "cell_type": "code",
   "execution_count": 7,
   "metadata": {},
   "outputs": [
    {
     "name": "stdout",
     "output_type": "stream",
     "text": [
      "<class 'pandas.core.frame.DataFrame'>\n",
      "RangeIndex: 1884 entries, 0 to 1883\n",
      "Data columns (total 27 columns):\n",
      " #   Column        Non-Null Count  Dtype  \n",
      "---  ------        --------------  -----  \n",
      " 0   Age           1884 non-null   object \n",
      " 1   Gender        1884 non-null   object \n",
      " 2   Education     1884 non-null   object \n",
      " 3   Country       1884 non-null   object \n",
      " 4   Ethnicity     1884 non-null   object \n",
      " 5   Nscore        1884 non-null   float64\n",
      " 6   Escore        1884 non-null   float64\n",
      " 7   Oscore        1884 non-null   float64\n",
      " 8   AScore        1884 non-null   float64\n",
      " 9   Cscore        1884 non-null   float64\n",
      " 10  Impulsive     1884 non-null   float64\n",
      " 11  SS            1884 non-null   float64\n",
      " 12  Alcohol       1884 non-null   object \n",
      " 13  Amphet        1884 non-null   object \n",
      " 14  Amyl          1884 non-null   object \n",
      " 15  Benzos        1884 non-null   object \n",
      " 16  Caff          1884 non-null   object \n",
      " 17  Choc          1884 non-null   object \n",
      " 18  Coke          1884 non-null   object \n",
      " 19  Crack         1884 non-null   object \n",
      " 20  Heroin        1884 non-null   object \n",
      " 21  Legalh        1884 non-null   object \n",
      " 22  Meth          1884 non-null   object \n",
      " 23  Nicotine      1884 non-null   object \n",
      " 24  Semer         1884 non-null   object \n",
      " 25  VSA           1884 non-null   object \n",
      " 26  Psychedelics  1884 non-null   object \n",
      "dtypes: float64(7), object(20)\n",
      "memory usage: 397.5+ KB\n"
     ]
    }
   ],
   "source": [
    "#Drop unnecessary columns\n",
    "df_p = df_p.drop(columns=['Cannabis','Ecstasy','Ketamine','LSD','Mushrooms'], axis=1)\n",
    "df_p.info()"
   ]
  },
  {
   "cell_type": "code",
   "execution_count": 8,
   "metadata": {},
   "outputs": [
    {
     "name": "stdout",
     "output_type": "stream",
     "text": [
      "1    1494\n",
      "0     390\n",
      "Name: Psychedelics, dtype: int64\n"
     ]
    }
   ],
   "source": [
    "#Check values\n",
    "print(df_p['Psychedelics'].value_counts())"
   ]
  },
  {
   "cell_type": "code",
   "execution_count": 9,
   "metadata": {},
   "outputs": [
    {
     "name": "stdout",
     "output_type": "stream",
     "text": [
      "CL0    1876\n",
      "Name: Semer, dtype: int64\n"
     ]
    }
   ],
   "source": [
    "#drop any rows of individuals claiming to take Semer\n",
    "df_p.drop(df_p.loc[df_p['Semer']!='CL0'].index, inplace=True)\n",
    "print(df_p['Semer'].value_counts())"
   ]
  },
  {
   "cell_type": "markdown",
   "metadata": {},
   "source": [
    "Since we are primarily focused on understanding psychedelic use based on personality scores, let's make a quick set of violin plots to get a sense of the connection."
   ]
  },
  {
   "cell_type": "code",
   "execution_count": 35,
   "metadata": {},
   "outputs": [
    {
     "data": {
      "image/png": "[encoded data removed]",
      "text/plain": [
       "<Figure size 1080x720 with 9 Axes>"
      ]
     },
     "metadata": {
      "needs_background": "light"
     },
     "output_type": "display_data"
    }
   ],
   "source": [
    "personality_scores = df_p.columns[5:12]\n",
    "\n",
    "# Define the number of columns and rows for the subplots matrix\n",
    "num_cols = 3  # Number of columns\n",
    "num_rows = math.ceil(len(personality_scores) / num_cols)  # Number of rows\n",
    "\n",
    "# Create the subplots matrix\n",
    "fig, axes = plt.subplots(num_rows, num_cols, figsize=(15, 10))\n",
    "\n",
    "# Flatten the axes array to simplify indexing\n",
    "axes = axes.flatten()\n",
    "\n",
    "# Iterate over each numerical column\n",
    "for i, column in enumerate(personality_scores):\n",
    "    ax = axes[i]\n",
    "    sns.violinplot(x=df_p['Psychedelics'], y=df_p[column], ax=ax)\n",
    "    ax.set_xlabel('Have Used Psychedelics')\n",
    "    ax.set_ylabel(column)\n",
    "    ax.set_title(f'{column}')\n",
    "\n",
    "# Hide any unused subplots\n",
    "for j in range(len(personality_scores), len(axes)):\n",
    "    axes[j].axis('off')\n",
    "\n",
    "# Adjust spacing between subplots\n",
    "plt.tight_layout()\n",
    "\n",
    "# Show the plots\n",
    "plt.show()"
   ]
  },
  {
   "cell_type": "markdown",
   "metadata": {},
   "source": [
    "Based on these plots, we might expect there to be some strong correlation between high scorers on \"Open-to-Experience\" (Oscore), \"Sensation Seeking\" (SS), and Impulsiveness.\n",
    "\n",
    "-----\n",
    "\n",
    "Our next steps are to split the data into our training and test sets, and then create a pipeline to streamline and organize our code, enhancing readability and reproducibility. "
   ]
  },
  {
   "cell_type": "code",
   "execution_count": 11,
   "metadata": {},
   "outputs": [],
   "source": [
    "#create our train test split\n",
    "y = df_p['Psychedelics']\n",
    "y = y.astype('int')\n",
    "X = df_p.drop(columns=['Psychedelics'], axis=1)\n",
    "\n",
    "X_train, X_test, y_train, y_test = train_test_split(X, y, random_state=42)"
   ]
  },
  {
   "cell_type": "code",
   "execution_count": 12,
   "metadata": {},
   "outputs": [
    {
     "name": "stdout",
     "output_type": "stream",
     "text": [
      "Dataset    X shape     y shape\n",
      "---------  ----------  ---------\n",
      "Original   (1876, 26)  (1876,)\n",
      "Training   (1407, 26)  (1407,)\n",
      "Testing    (469, 26)   (469,)\n"
     ]
    }
   ],
   "source": [
    "# Print out the sizes to verify\n",
    "shape_table = [['Original', X.shape, y.shape], ['Training', X_train.shape, y_train.shape], \n",
    "         ['Testing', X_test.shape, y_test.shape]]\n",
    "print(tabulate(shape_table, headers=['Dataset', 'X shape', 'y shape']))"
   ]
  },
  {
   "cell_type": "markdown",
   "metadata": {},
   "source": [
    "## Create Pipeline"
   ]
  },
  {
   "cell_type": "code",
   "execution_count": 13,
   "metadata": {},
   "outputs": [],
   "source": [
    "# Create the preprocessing steps for numerical data\n",
    "subpipe_num = Pipeline(steps=[('num_impute', SimpleImputer()),\n",
    "                           ('ss', StandardScaler())])\n",
    "\n",
    "# Create the preprocessing steps for categorical data\n",
    "subpipe_cat = Pipeline(steps=[('cat_impute', SimpleImputer(strategy='most_frequent')),\n",
    "                             ('ohe', OneHotEncoder(sparse=False, handle_unknown='ignore'))])\n",
    "\n",
    "# Combine the preprocessing steps for numerical and categorical data\n",
    "CT = ColumnTransformer(transformers=[('subpipe_num', subpipe_num, [5, 6, 7, 8, 9, 10, 11]),\n",
    "                                         ('subpipe_cat', subpipe_cat, [0, 1, 2, 3, 4, 12, 13, 14, 15, 16, 17,\n",
    "                                                                  18, 19, 20, 21, 22, 23, 24, 25])],\n",
    "                           remainder='passthrough')"
   ]
  },
  {
   "cell_type": "markdown",
   "metadata": {},
   "source": [
    "# Step 3 - Modeling"
   ]
  },
  {
   "cell_type": "markdown",
   "metadata": {},
   "source": [
    "#### Logistic Regression\n",
    "\n",
    "Our first model will be a simple logistic regression. Starting with a logistic regression model offers interpretability and simplicity, serving as an efficient method to establish baseline performance for binary classification, such as distinguishing participants willing to try psychedelics. Its probabilistic output and capability to highlight feature importance can provide crucial insights into factors influencing willingness to participate in the trial, while setting a comparative standard for future, more complex models."
   ]
  },
  {
   "cell_type": "code",
   "execution_count": 36,
   "metadata": {},
   "outputs": [
    {
     "name": "stdout",
     "output_type": "stream",
     "text": [
      "Precision: 0.9532374100719424\n"
     ]
    }
   ],
   "source": [
    "# Create the logistic regression model\n",
    "logistic_regression_model = LogisticRegression(max_iter=10000)\n",
    "\n",
    "# Update the pipeline to include the logistic regression model\n",
    "log_pipeline = Pipeline([\n",
    "    ('preprocess', CT),\n",
    "    ('classifier', logistic_regression_model)\n",
    "])\n",
    "\n",
    "# Fit the pipeline to the training data\n",
    "log_pipeline.fit(X_train, y_train)\n",
    "\n",
    "# Get the predicted labels for the training data\n",
    "y_train_pred = log_pipeline.predict(X_train)\n",
    "\n",
    "# Compute the precision of the logistic regression model\n",
    "precision = precision_score(y_train, y_train_pred)\n",
    "\n",
    "print(f\"Precision: {precision}\")"
   ]
  },
  {
   "cell_type": "markdown",
   "metadata": {},
   "source": [
    "The log model has 95% precision on our training data, which implies a lower rate of false positives, as precision is the ratio of true positives to the sum of true positives and false positives. Now let's check the model on our test set:"
   ]
  },
  {
   "cell_type": "code",
   "execution_count": 15,
   "metadata": {},
   "outputs": [
    {
     "name": "stdout",
     "output_type": "stream",
     "text": [
      "              precision    recall  f1-score   support\n",
      "\n",
      "           0       0.76      0.78      0.77       103\n",
      "           1       0.94      0.93      0.93       366\n",
      "\n",
      "    accuracy                           0.90       469\n",
      "   macro avg       0.85      0.85      0.85       469\n",
      "weighted avg       0.90      0.90      0.90       469\n",
      "\n"
     ]
    }
   ],
   "source": [
    "# Predict the labels for the test data\n",
    "y_test_pred = log_pipeline.predict(X_test)\n",
    "\n",
    "# Print the classification report\n",
    "print(classification_report(y_test, y_test_pred))"
   ]
  },
  {
   "cell_type": "markdown",
   "metadata": {},
   "source": [
    "Our model did great on the test set as well! Achieving a 94% precission rate on determining whether a person has taken any psychedelic. It's precision wasn't as good at predicting \"no\" to psychedelic use, but that's less important here. Next step is to create a confusion matrix to see how many false positives and negatives we had."
   ]
  },
  {
   "cell_type": "code",
   "execution_count": 37,
   "metadata": {},
   "outputs": [
    {
     "data": {
      "image/png": "[encoded data removed]",
      "text/plain": [
       "<Figure size 432x288 with 2 Axes>"
      ]
     },
     "metadata": {
      "needs_background": "light"
     },
     "output_type": "display_data"
    }
   ],
   "source": [
    "# Predict the labels for the test set\n",
    "y_pred = log_pipeline.predict(X_test)\n",
    "\n",
    "# Create the confusion matrix\n",
    "cm = confusion_matrix(y_test, y_pred)\n",
    "\n",
    "# Create a heatmap of the confusion matrix\n",
    "sns.heatmap(cm, annot=True, fmt='d', cmap='Blues')\n",
    "\n",
    "# Set labels, title, and axis ticks\n",
    "plt.xlabel('Predicted Labels')\n",
    "plt.ylabel('True Labels')\n",
    "plt.title('Confusion Matrix')\n",
    "plt.show()"
   ]
  },
  {
   "cell_type": "markdown",
   "metadata": {},
   "source": [
    "Looks like the model had a total of 23 false positives. We will keep that in mind as we explore the other models. \n",
    "\n",
    "Now it's time to explore the data. Our team needs to grab the feature importances in order to see which attributes the model thinks are more impotant than the others."
   ]
  },
  {
   "cell_type": "code",
   "execution_count": 16,
   "metadata": {},
   "outputs": [],
   "source": [
    "# Get column names after OneHotEncoding\n",
    "cat_cols_transformed = log_pipeline.named_steps['preprocess'].named_transformers_['subpipe_cat'].named_steps['ohe'].get_feature_names_out(input_features=X_train.columns[[0, 1, 2, 3, 4, 12, 13, 14, 15, 16, 17, 18, 19, 20, 21, 22, 23, 24, 25]].tolist())\n",
    "\n",
    "# Concatenate with numerical column names to get the final order\n",
    "feature_names_ordered = np.concatenate([X_train.columns[5:12], cat_cols_transformed])\n",
    "\n",
    "# Get feature coefficients from the logistic regression model\n",
    "coefficients = log_pipeline.named_steps['classifier'].coef_[0]\n",
    "\n",
    "# Create a DataFrame with feature names and their coefficients\n",
    "coefficients_df = pd.DataFrame({'feature': feature_names_ordered, 'coefficient': coefficients})\n",
    "\n",
    "# Sort DataFrame by coefficient magnitude\n",
    "coefficients_df['abs_coefficient'] = abs(coefficients_df['coefficient'])\n",
    "coefficients_df = coefficients_df.sort_values(by='abs_coefficient', ascending=False)\n",
    "\n",
    "# Filter DataFrame to include only desired features\n",
    "num_features_df = coefficients_df[coefficients_df['feature'].isin(X_train.columns[5:12])]"
   ]
  },
  {
   "cell_type": "code",
   "execution_count": 17,
   "metadata": {},
   "outputs": [
    {
     "data": {
      "image/png": "[encoded data removed]",
      "text/plain": [
       "<Figure size 720x432 with 1 Axes>"
      ]
     },
     "metadata": {
      "needs_background": "light"
     },
     "output_type": "display_data"
    }
   ],
   "source": [
    "# Plot feature importances\n",
    "plt.figure(figsize=(10, 6))\n",
    "plt.barh(num_features_df['feature'], num_features_df['abs_coefficient'])\n",
    "plt.xlabel(\"Coefficient Magnitude\")\n",
    "plt.ylabel(\"Feature\")\n",
    "plt.title(\"Feature Importances (Logistic Regression)\")\n",
    "plt.gca().invert_yaxis()\n",
    "plt.tight_layout()\n",
    "plt.show()"
   ]
  },
  {
   "cell_type": "markdown",
   "metadata": {},
   "source": [
    "It looks like Oscore has the largest coefficient magnitude of all our personality traits. The coefficient value of 0.5 for \"Oscore\" means that for every one-unit increase, the log odds of the outcome \"Psychedelics\" being 'yes' (versus 'no') increase by 0.5, assuming all other variables in the model are held constant.\n",
    "\n",
    "To better understand this in terms of odds (rather than log odds), we can calculate the odds by taking the exponent of the coefficient: exp(0.5) ≈ 1.65. This means that for every one-unit increase in \"Oscore\", the odds of the outcome \"Psychedelics\" being 'yes' (versus 'no') increase by about 65%, assuming all other variables in the model are held constant. \n",
    "\n",
    "And since, as we saw above, people who have taken psychedelics have a higher Oscore, we can assume that a higher Oscore means a higher likelihood that a person has consumed a psychedelic (or perhaps will)."
   ]
  },
  {
   "cell_type": "markdown",
   "metadata": {},
   "source": [
    "## Random Forest Classifier"
   ]
  },
  {
   "cell_type": "markdown",
   "metadata": {},
   "source": [
    "Next we run a Random Forest Classifier, or RFC. It's worth running this model due to its ability to manage overfitting, handle missing values, deal with non-linear relationships, provide feature importance, deliver high accuracy, and its versatile application to both classification and regression tasks."
   ]
  },
  {
   "cell_type": "code",
   "execution_count": 38,
   "metadata": {},
   "outputs": [
    {
     "name": "stdout",
     "output_type": "stream",
     "text": [
      "RFC Precision: 1.0\n"
     ]
    }
   ],
   "source": [
    "# Create the random forest classifier model\n",
    "random_forest_model = RandomForestClassifier()\n",
    "\n",
    "# Update the pipeline to include the random forest classifier model\n",
    "rfc_pipeline = Pipeline([\n",
    "    ('preprocess', CT),  # Preprocessing steps remain the same\n",
    "    ('classifier', random_forest_model)  # Replace with random forest classifier\n",
    "])\n",
    "\n",
    "# Fit the pipeline to the training data\n",
    "rfc_pipeline.fit(X_train, y_train)\n",
    "\n",
    "# Predict the labels for the training data\n",
    "y_train_pred_rfc = rfc_pipeline.predict(X_train)\n",
    "\n",
    "# Compute the precision of the random forest model\n",
    "precision_rfc = precision_score(y_train, y_train_pred_rfc)\n",
    "\n",
    "print(f\"RFC Precision: {precision_rfc}\")"
   ]
  },
  {
   "cell_type": "markdown",
   "metadata": {},
   "source": [
    "A precision of 1.0 indicates that our model is probably overfitting. To avoid that, we can run a RandomizedSearchCV to perform some hypertuning and get the best parameters for our model. Since we are targeting precision, we might want to adjust class weight values, but let's run the model first."
   ]
  },
  {
   "cell_type": "code",
   "execution_count": 56,
   "metadata": {},
   "outputs": [
    {
     "name": "stdout",
     "output_type": "stream",
     "text": [
      "Best parameters: {'classifier__n_estimators': 500, 'classifier__min_samples_split': 10, 'classifier__min_samples_leaf': 4, 'classifier__max_features': 'sqrt', 'classifier__max_depth': 20, 'classifier__bootstrap': True}\n"
     ]
    }
   ],
   "source": [
    "# Define the parameter grid for the random forest\n",
    "param_dist = {\n",
    "    'classifier__n_estimators': [100, 200, 500, 1000],\n",
    "    'classifier__max_depth': [5, 10, 20],\n",
    "    'classifier__min_samples_split': [10, 20, 30],\n",
    "    'classifier__min_samples_leaf': [4, 8, 12],\n",
    "    'classifier__max_features': ['sqrt', 'log2'],\n",
    "    'classifier__bootstrap': [True]\n",
    "}\n",
    "\n",
    "# Create the RandomizedSearchCV object\n",
    "random_search = RandomizedSearchCV(rfc_pipeline, param_distributions=param_dist, n_iter=100, cv=5, scoring='precision', n_jobs=-1, random_state=42)\n",
    "\n",
    "# Fit the RandomizedSearchCV object to the data\n",
    "random_search.fit(X_train, y_train)\n",
    "\n",
    "# Get the best parameters\n",
    "best_params = random_search.best_params_\n",
    "\n",
    "print(\"Best parameters:\", best_params)"
   ]
  },
  {
   "cell_type": "code",
   "execution_count": 57,
   "metadata": {},
   "outputs": [
    {
     "name": "stdout",
     "output_type": "stream",
     "text": [
      "Best Model Training Precision: 0.9551845342706503\n"
     ]
    }
   ],
   "source": [
    "# Create a new model with the best parameters\n",
    "best_rfc = RandomForestClassifier(n_estimators=best_params['classifier__n_estimators'],\n",
    "                                  max_depth=best_params['classifier__max_depth'],\n",
    "                                  min_samples_split=best_params['classifier__min_samples_split'],\n",
    "                                  min_samples_leaf=best_params['classifier__min_samples_leaf'],\n",
    "                                  max_features=best_params['classifier__max_features'],\n",
    "                                  bootstrap=best_params['classifier__bootstrap'])\n",
    "\n",
    "# Update the pipeline to include the new random forest classifier model\n",
    "best_rfc_pipeline = Pipeline([\n",
    "    ('preprocess', CT), \n",
    "    ('classifier', best_rfc) \n",
    "])\n",
    "\n",
    "# Fit the pipeline to the training data\n",
    "best_rfc_pipeline.fit(X_train, y_train)\n",
    "\n",
    "# Predict the labels for the training data using the best model\n",
    "y_train_pred_best = random_search.predict(X_train)\n",
    "\n",
    "# Compute the precision of the best model\n",
    "precision_best = precision_score(y_train, y_train_pred_best)\n",
    "\n",
    "print(f\"Best Model Training Precision: {precision_best}\")"
   ]
  },
  {
   "cell_type": "markdown",
   "metadata": {},
   "source": [
    "A model precision of 95 is great! Now let's run it on the test set:"
   ]
  },
  {
   "cell_type": "code",
   "execution_count": 58,
   "metadata": {},
   "outputs": [
    {
     "name": "stdout",
     "output_type": "stream",
     "text": [
      "              precision    recall  f1-score   support\n",
      "\n",
      "           0       0.82      0.65      0.72       103\n",
      "           1       0.91      0.96      0.93       366\n",
      "\n",
      "    accuracy                           0.89       469\n",
      "   macro avg       0.86      0.80      0.83       469\n",
      "weighted avg       0.89      0.89      0.89       469\n",
      "\n"
     ]
    }
   ],
   "source": [
    "# Predict the labels for the test data\n",
    "y_test_pred = best_rfc_pipeline.predict(X_test)\n",
    "\n",
    "# Print the classification report for test data\n",
    "print(classification_report(y_test, y_test_pred))"
   ]
  },
  {
   "cell_type": "markdown",
   "metadata": {},
   "source": [
    "So it looks like our RFC scored only a 91 on our test set. Let's check the confusion matrix:"
   ]
  },
  {
   "cell_type": "code",
   "execution_count": 62,
   "metadata": {},
   "outputs": [
    {
     "data": {
      "image/png": "[encoded data removed]",
      "text/plain": [
       "<Figure size 432x288 with 2 Axes>"
      ]
     },
     "metadata": {
      "needs_background": "light"
     },
     "output_type": "display_data"
    }
   ],
   "source": [
    "# Predict the labels for the test set using the best model\n",
    "y_pred = random_search.predict(X_test)\n",
    "\n",
    "# Create the confusion matrix\n",
    "cm = confusion_matrix(y_test, y_pred)\n",
    "\n",
    "# Create a heatmap of the confusion matrix\n",
    "sns.heatmap(cm, annot=True, fmt='d', cmap='Blues')\n",
    "\n",
    "# Set labels, title, and axis ticks\n",
    "plt.xlabel('Predicted Labels')\n",
    "plt.ylabel('True Labels')\n",
    "plt.title('Confusion Matrix')\n",
    "plt.show()"
   ]
  },
  {
   "cell_type": "markdown",
   "metadata": {},
   "source": [
    "Rather than 23 false positives that our Log Model made, it looks like our RFC has 34. That's potentially 11 people who would have been falsely selected as likely to be willing to take psychedelics. Not great!\n",
    "\n",
    "Let's see what this model has to say in terms of feature importances."
   ]
  },
  {
   "cell_type": "markdown",
   "metadata": {},
   "source": [
    "### Get Feature Importances"
   ]
  },
  {
   "cell_type": "code",
   "execution_count": 63,
   "metadata": {},
   "outputs": [],
   "source": [
    "# Get column names after OneHotEncoding\n",
    "cat_cols_transformed = random_search.best_estimator_.named_steps['preprocess'].named_transformers_['subpipe_cat'].named_steps['ohe'].get_feature_names_out(input_features=X_train.columns[[0, 1, 2, 3, 4, 12, 13, 14, 15, 16, 17, 18, 19, 20, 21, 22, 23, 24, 25]].tolist())\n",
    "\n",
    "# Concatenate with numerical column names to get the final order\n",
    "feature_names_ordered = np.concatenate([X_train.columns[5:12], cat_cols_transformed])\n",
    "\n",
    "# Get feature importances from the best RFC\n",
    "importances = random_search.best_estimator_.named_steps['classifier'].feature_importances_\n",
    "\n",
    "# Create a DataFrame with feature names and their importance\n",
    "importances_df = pd.DataFrame({'feature': feature_names_ordered, 'importance': importances})\n",
    "\n",
    "# Sort DataFrame by importance\n",
    "importances_df = importances_df.sort_values(by='importance', ascending=False)\n",
    "\n",
    "# Filter DataFrame to include only desired features\n",
    "num_features_df = importances_df[importances_df['feature'].isin(X_train.columns[5:12])]"
   ]
  },
  {
   "cell_type": "code",
   "execution_count": 64,
   "metadata": {},
   "outputs": [
    {
     "data": {
      "image/png": "[encoded data removed]",
      "text/plain": [
       "<Figure size 720x432 with 1 Axes>"
      ]
     },
     "metadata": {
      "needs_background": "light"
     },
     "output_type": "display_data"
    }
   ],
   "source": [
    "# Plot the feature importances for the numerical features\n",
    "num_features_df.plot(kind='bar', x='feature', y='importance', figsize=(10,6));"
   ]
  },
  {
   "cell_type": "markdown",
   "metadata": {},
   "source": [
    "Just like our log model, the RFC seems to think Oscore is the most important, though the range between traits is much smaller here. It also tagged Impulsiveness pretty low.\n",
    "\n",
    "But before we make any recommendations, we will check one more model."
   ]
  },
  {
   "cell_type": "markdown",
   "metadata": {},
   "source": [
    "## Gradient Boosting Classifier"
   ]
  },
  {
   "cell_type": "markdown",
   "metadata": {},
   "source": [
    " Its worth running a GBC model because they are known for handling overfitting well and can provide important insights into feature importance, contributing to model interpretability, complementing insights from RFC and Logistic Regression models."
   ]
  },
  {
   "cell_type": "code",
   "execution_count": 66,
   "metadata": {
    "scrolled": true
   },
   "outputs": [
    {
     "name": "stdout",
     "output_type": "stream",
     "text": [
      "GBC Training Precision: 0.9686940966010733\n"
     ]
    }
   ],
   "source": [
    "# Define the Gradient Boosting Classifier pipeline\n",
    "gbc_pipeline = Pipeline([\n",
    "    ('preprocess', CT),\n",
    "    ('classifier', GradientBoostingClassifier(random_state=42))\n",
    "])\n",
    "\n",
    "# Fit the pipeline on the training data\n",
    "gbc_pipeline.fit(X_train, y_train)\n",
    "\n",
    "# Predict the labels for the training data\n",
    "y_train_pred = gbc_pipeline.predict(X_train)\n",
    "\n",
    "# Compute the precision score\n",
    "precision = precision_score(y_train, y_train_pred)\n",
    "\n",
    "print(f\"GBC Training Precision: {precision}\")"
   ]
  },
  {
   "cell_type": "markdown",
   "metadata": {},
   "source": [
    "The initial model gives us a 97 precision! Great! But let's see if we can make it any better with some tuning."
   ]
  },
  {
   "cell_type": "code",
   "execution_count": 67,
   "metadata": {},
   "outputs": [
    {
     "name": "stdout",
     "output_type": "stream",
     "text": [
      "Best parameters: {'gbc__learning_rate': 0.1, 'gbc__max_depth': 3, 'gbc__min_samples_leaf': 1, 'gbc__min_samples_split': 6, 'gbc__n_estimators': 191, 'gbc__subsample': 1}\n"
     ]
    }
   ],
   "source": [
    "# Define the parameter distribution for the Gradient Boosting Classifier\n",
    "param_dist = {\n",
    "    'gbc__n_estimators': randint(50, 200),\n",
    "    'gbc__learning_rate': [0.01, 0.1, 1],\n",
    "    'gbc__max_depth': randint(1, 40),\n",
    "    'gbc__min_samples_split': randint(2, 11),\n",
    "    'gbc__min_samples_leaf': randint(1, 5),\n",
    "    'gbc__subsample': [0.5, 0.75, 1]\n",
    "}\n",
    "\n",
    "# Create the RandomizedSearchCV object\n",
    "random_search_gbc = RandomizedSearchCV(gbc_model_pipe, param_dist, n_iter=100, cv=5, scoring='precision', n_jobs=-1, random_state=42)\n",
    "\n",
    "# Fit the RandomizedSearchCV object to the data\n",
    "random_search_gbc.fit(X_train, y_train)\n",
    "\n",
    "# Get the best parameters\n",
    "best_params_gbc = random_search_gbc.best_params_\n",
    "\n",
    "print(\"Best parameters:\", best_params_gbc)"
   ]
  },
  {
   "cell_type": "code",
   "execution_count": 68,
   "metadata": {},
   "outputs": [
    {
     "name": "stdout",
     "output_type": "stream",
     "text": [
      "Best GBC Model Precision: 0.9857270294380018\n"
     ]
    }
   ],
   "source": [
    "# Use the best parameters to create a new pipeline\n",
    "best_gbc_model = GradientBoostingClassifier(n_estimators=best_params_gbc['gbc__n_estimators'],\n",
    "                                            learning_rate=best_params_gbc['gbc__learning_rate'],\n",
    "                                            max_depth=best_params_gbc['gbc__max_depth'],\n",
    "                                            min_samples_split=best_params_gbc['gbc__min_samples_split'],\n",
    "                                            min_samples_leaf=best_params_gbc['gbc__min_samples_leaf'],\n",
    "                                            subsample=best_params_gbc['gbc__subsample'],\n",
    "                                            random_state=42)\n",
    "\n",
    "best_gbc_pipeline = Pipeline([\n",
    "    ('preprocess', CT),  # Preprocessing steps remain the same\n",
    "    ('classifier', best_gbc_model)  # Replace with the new gradient boosting classifier\n",
    "])\n",
    "\n",
    "# Fit the pipeline to the training data\n",
    "best_gbc_pipeline.fit(X_train, y_train)\n",
    "\n",
    "# Predict the labels for the training data using the best model\n",
    "y_train_pred_best_gbc = best_gbc_pipeline.predict(X_train)\n",
    "\n",
    "# Compute the precision of the best model\n",
    "precision_best_gbc = precision_score(y_train, y_train_pred_best_gbc)\n",
    "\n",
    "print(f\"Best GBC Model Precision: {precision_best_gbc}\")"
   ]
  },
  {
   "cell_type": "markdown",
   "metadata": {},
   "source": [
    "It looks like that tuning gave us a 1.5% boost. Not bad. But how does our model do with the test data?"
   ]
  },
  {
   "cell_type": "code",
   "execution_count": 69,
   "metadata": {},
   "outputs": [
    {
     "name": "stdout",
     "output_type": "stream",
     "text": [
      "              precision    recall  f1-score   support\n",
      "\n",
      "           0       0.71      0.72      0.71       103\n",
      "           1       0.92      0.92      0.92       366\n",
      "\n",
      "    accuracy                           0.87       469\n",
      "   macro avg       0.82      0.82      0.82       469\n",
      "weighted avg       0.87      0.87      0.87       469\n",
      "\n"
     ]
    }
   ],
   "source": [
    "# Predict the labels for the test data\n",
    "y_test_pred_gbc = best_gbc_pipeline.predict(X_test)\n",
    "\n",
    "# Compute the precision score for the Gradient Boosting Classifier\n",
    "precision_gbc = precision_score(y_test, y_test_pred_gbc)\n",
    "\n",
    "# Print the classification report for test data\n",
    "print(classification_report(y_test, y_test_pred_gbc))"
   ]
  },
  {
   "cell_type": "markdown",
   "metadata": {},
   "source": [
    "Looks like our GBC model was overfitting. It scored a 92 for precision with our test data. A pretty big drop. And the confusion matrix indicates 29 false positives."
   ]
  },
  {
   "cell_type": "code",
   "execution_count": 72,
   "metadata": {},
   "outputs": [
    {
     "data": {
      "image/png": "[encoded data removed]",
      "text/plain": [
       "<Figure size 576x432 with 2 Axes>"
      ]
     },
     "metadata": {
      "needs_background": "light"
     },
     "output_type": "display_data"
    }
   ],
   "source": [
    "# Generate the predictions for the test set\n",
    "y_test_pred_gbc = best_gbc_pipeline.predict(X_test)\n",
    "\n",
    "# Generate the confusion matrix\n",
    "cm = confusion_matrix(y_test, y_test_pred_gbc)\n",
    "\n",
    "# Display the confusion matrix\n",
    "plt.figure(figsize=(8,6))\n",
    "sns.heatmap(cm, annot=True, fmt='d', cmap='Blues')\n",
    "plt.xlabel('Predicted')\n",
    "plt.ylabel('True')\n",
    "plt.show()"
   ]
  },
  {
   "cell_type": "code",
   "execution_count": 73,
   "metadata": {},
   "outputs": [
    {
     "data": {
      "image/png": "[encoded data removed]",
      "text/plain": [
       "<Figure size 720x432 with 1 Axes>"
      ]
     },
     "metadata": {
      "needs_background": "light"
     },
     "output_type": "display_data"
    }
   ],
   "source": [
    "# Get column names after OneHotEncoding\n",
    "cat_cols_transformed = best_gbc_pipeline.named_steps['preprocess'].named_transformers_['subpipe_cat'].named_steps['ohe'].get_feature_names_out(input_features=X_train.columns[[0, 1, 2, 3, 4, 12, 13, 14, 15, 16, 17, 18, 19, 20, 21, 22, 23, 24, 25]].tolist())\n",
    "\n",
    "# Concatenate with numerical column names to get the final order\n",
    "feature_names_ordered = np.concatenate([X_train.columns[5:12], cat_cols_transformed])\n",
    "\n",
    "# Get feature importances from the Gradient Boosting Classifier in the final pipeline\n",
    "importances = best_gbc_pipeline.named_steps['classifier'].feature_importances_\n",
    "\n",
    "# Check if the lengths of feature names and importances match\n",
    "assert len(importances) == len(feature_names_ordered), \"Lengths of feature names and importances do not match.\"\n",
    "\n",
    "# Create a DataFrame with feature names and their importance\n",
    "importances_df = pd.DataFrame({'feature': feature_names_ordered, 'importance': importances})\n",
    "\n",
    "# Sort DataFrame by importance\n",
    "importances_df = importances_df.sort_values(by='importance', ascending=False)\n",
    "\n",
    "# Filter DataFrame to include only desired features\n",
    "num_features_df = importances_df[importances_df['feature'].isin(X_train.columns[5:12])]\n",
    "\n",
    "# Plot the feature importances for the numerical features\n",
    "num_features_df.plot(kind='bar', x='feature', y='importance', figsize=(10,6));"
   ]
  },
  {
   "cell_type": "markdown",
   "metadata": {},
   "source": [
    "Like our Log and RFC models, the GBC things Oscore is the most important and that Impulsive is least."
   ]
  },
  {
   "cell_type": "markdown",
   "metadata": {},
   "source": [
    "## Model Comparison"
   ]
  },
  {
   "cell_type": "code",
   "execution_count": 74,
   "metadata": {},
   "outputs": [
    {
     "name": "stdout",
     "output_type": "stream",
     "text": [
      "\n",
      "Model: Logistic Regression\n",
      "accuracy: 0.8976545842217484\n",
      "precision: 0.9368131868131868\n",
      "recall: 0.9316939890710383\n",
      "F1-score: 0.9342465753424658\n",
      "\n",
      "Model: RFC\n",
      "accuracy: 0.8912579957356077\n",
      "precision: 0.9069767441860465\n",
      "recall: 0.9590163934426229\n",
      "F1-score: 0.9322709163346613\n",
      "\n",
      "Model: GBC\n",
      "accuracy: 0.8742004264392325\n",
      "precision: 0.9205479452054794\n",
      "recall: 0.9180327868852459\n",
      "F1-score: 0.9192886456908346\n"
     ]
    }
   ],
   "source": [
    "# Define the models and their predictions\n",
    "models = [('Logistic Regression', log_pipeline), ('RFC', best_rfc_pipeline), ('GBC', best_gbc_pipeline)]\n",
    "\n",
    "# Define the evaluation metrics\n",
    "metrics = [('accuracy', accuracy_score), ('precision', precision_score),\n",
    "           ('recall', recall_score), ('F1-score', f1_score)]\n",
    "\n",
    "# Iterate over models and metrics to compute and print the scores\n",
    "for model_name, model in models:\n",
    "    predictions = model.predict(X_test)\n",
    "    print(f\"\\nModel: {model_name}\")\n",
    "    for metric_name, metric_func in metrics:\n",
    "        score = metric_func(y_test, predictions)\n",
    "        print(f\"{metric_name}: {score}\")"
   ]
  },
  {
   "cell_type": "markdown",
   "metadata": {},
   "source": [
    "When comparing all our models, it looks like our Logistical Regression model scores highest on precision, accuracy, and F1. While the scores are close, we'll give the Log model the edge and choose it to draw understandings. "
   ]
  },
  {
   "cell_type": "markdown",
   "metadata": {},
   "source": [
    "## Step 4 - Data Understanding\n",
    "#### Digging Deeper into our Logistical Regression Model\n",
    "\n",
    "\n",
    "First, let's get the coefficient values in our model. We probably don't need them all, but let's check for about 30 to see where our personality scores end up compared to all the other variables in terms of importance."
   ]
  },
  {
   "cell_type": "code",
   "execution_count": 75,
   "metadata": {},
   "outputs": [
    {
     "name": "stdout",
     "output_type": "stream",
     "text": [
      "                         feature  coefficient\n",
      "101                   Legalh_CL0     1.791500\n",
      "115                 Nicotine_CL0     1.595782\n",
      "52                      Amyl_CL0     1.542390\n",
      "80                      Coke_CL0     1.376952\n",
      "45                    Amphet_CL0     1.343170\n",
      "38                   Alcohol_CL0     1.225124\n",
      "53                      Amyl_CL1     1.063582\n",
      "81                      Coke_CL1     1.047385\n",
      "46                    Amphet_CL1     1.013011\n",
      "118                 Nicotine_CL3     0.983424\n",
      "30                   Country_USA     0.892543\n",
      "28   Country_Republic of Ireland     0.788134\n",
      "113                     Meth_CL5     0.779733\n",
      "36               Ethnicity_Other     0.757255\n",
      "69                      Caff_CL3     0.680665\n",
      "47                    Amphet_CL2     0.662919\n",
      "102                   Legalh_CL1     0.649968\n",
      "32               Ethnicity_Black     0.629921\n",
      "12                       Age_65+     0.602255\n",
      "34   Ethnicity_Mixed-White/Asian     0.586940\n",
      "7                      Age_18-24     0.539370\n",
      "124                      VSA_CL1     0.535639\n",
      "105                   Legalh_CL4     0.534281\n",
      "110                     Meth_CL2     0.513415\n",
      "95                    Heroin_CL1     0.510259\n",
      "123                      VSA_CL0     0.499164\n",
      "29                    Country_UK     0.485108\n",
      "37               Ethnicity_White     0.483409\n",
      "2                         Oscore     0.472722\n",
      "65                    Benzos_CL6     0.449663\n"
     ]
    }
   ],
   "source": [
    "# Fit the pipeline to the training data\n",
    "log_pipeline.fit(X_train, y_train)\n",
    "\n",
    "# Get the logistic regression model from the pipeline\n",
    "logistic_regression_model = log_pipeline.named_steps['classifier']\n",
    "\n",
    "# Get the coefficient values from the logistic regression model\n",
    "coefficients = logistic_regression_model.coef_[0]\n",
    "\n",
    "# Get column names after preprocessing\n",
    "cat_cols_transformed = log_pipeline.named_steps['preprocess'].named_transformers_['subpipe_cat'].named_steps['ohe'].get_feature_names_out(input_features=X_train.columns[[0, 1, 2, 3, 4, 12, 13, 14, 15, 16, 17, 18, 19, 20, 21, 22, 23, 24, 25]].tolist())\n",
    "feature_names_ordered = np.concatenate([X_train.columns[5:12], cat_cols_transformed])\n",
    "\n",
    "# Create a DataFrame with feature names and their absolute coefficients\n",
    "coefficients_df = pd.DataFrame({'feature': feature_names_ordered, 'coefficient': abs(coefficients)})\n",
    "\n",
    "# Sort the DataFrame by coefficient magnitude in descending order\n",
    "coefficients_df = coefficients_df.sort_values(by='coefficient', ascending=False)\n",
    "\n",
    "# Display the most influential features\n",
    "print(coefficients_df.head(30)) "
   ]
  },
  {
   "cell_type": "markdown",
   "metadata": {},
   "source": [
    "Out of the 130 coefficients, our Oscore is in the top 30, but there is a signifigant difference between it an our leading coefficients: Never Having Taken a Legal Highs, Nicotine, and Amyl Nitrites. A question to ask is, do people who take psychedelics and have NEVER taken a Legal High score higher on openness than non-psychedelic consumers?"
   ]
  },
  {
   "cell_type": "code",
   "execution_count": 77,
   "metadata": {},
   "outputs": [
    {
     "name": "stdout",
     "output_type": "stream",
     "text": [
      "The average Oscore for individuals who scored 'CL0' in the Legalh column and are categorized as 'Psychedelics' is: -0.13370970212765956\n",
      "The average Oscore for individuals who scored 'CL0' in the Legalh column and are categorized as non-psychedelics is: -0.6005649222797927\n",
      "The average Oscore for all other results in the Legalh column is: 0.4084276433121019\n"
     ]
    }
   ],
   "source": [
    "# Filter the dataset for individuals who scored 'CL0' in the 'Legalh' column\n",
    "cl0_data = df_p[df_p['Legalh'] == 'CL0']\n",
    "\n",
    "# Calculate the average 'Oscore' for individuals who scored 'CL0' in the 'Legalh' column and are categorized as 'Psychedelics'\n",
    "average_oscore_cl0_psychedelics = cl0_data[cl0_data['Psychedelics'] == 1]['Oscore'].mean()\n",
    "\n",
    "# Calculate the average 'Oscore' for individuals who scored 'CL0' in the 'Legalh' column and are categorized as non-psychedelics\n",
    "average_oscore_cl0_non_psychedelics = cl0_data[cl0_data['Psychedelics'] == 0]['Oscore'].mean()\n",
    "\n",
    "# Calculate the average 'Oscore' for all other results in the 'Legalh' column\n",
    "average_oscore_other = df_p[df_p['Legalh'] != 'CL0']['Oscore'].mean()\n",
    "\n",
    "# Print the results\n",
    "print(f\"The average Oscore for individuals who scored 'CL0' in the Legalh column and are categorized as 'Psychedelics' is: {average_oscore_cl0_psychedelics}\")\n",
    "print(f\"The average Oscore for individuals who scored 'CL0' in the Legalh column and are categorized as non-psychedelics is: {average_oscore_cl0_non_psychedelics}\")\n",
    "print(f\"The average Oscore for all other results in the Legalh column is: {average_oscore_other}\")"
   ]
  },
  {
   "cell_type": "markdown",
   "metadata": {},
   "source": [
    "Looks like psychedelic users DO score higher on the Oscore than non-psychedelic users! So that indicates that Oscore possibly contributes positively to Psychedelic use in conjunction with our most important coefficient. But what about Oscore more generally?"
   ]
  },
  {
   "cell_type": "code",
   "execution_count": 78,
   "metadata": {},
   "outputs": [
    {
     "name": "stdout",
     "output_type": "stream",
     "text": [
      "The average 'Oscore' for individuals who take psychedelics is: 0.15206975100942124\n",
      "The average 'Oscore' for individuals who do not take psychedelics is: -0.5934444871794872\n"
     ]
    },
    {
     "data": {
      "image/png": "[encoded data removed]",
      "text/plain": [
       "<Figure size 576x432 with 1 Axes>"
      ]
     },
     "metadata": {
      "needs_background": "light"
     },
     "output_type": "display_data"
    }
   ],
   "source": [
    "# Calculate the average 'Oscore' for individuals who take psychedelics\n",
    "average_oscore_psychedelics = df_p[df_p['Psychedelics'] == 1]['Oscore'].mean()\n",
    "\n",
    "# Calculate the average 'Oscore' for individuals who do not take psychedelics\n",
    "average_oscore_non_psychedelics = df_p[df_p['Psychedelics'] == 0]['Oscore'].mean()\n",
    "\n",
    "# Print the results\n",
    "print(f\"The average 'Oscore' for individuals who take psychedelics is: {average_oscore_psychedelics}\")\n",
    "print(f\"The average 'Oscore' for individuals who do not take psychedelics is: {average_oscore_non_psychedelics}\")\n",
    "\n",
    "# Plot 1: Bar Plot\n",
    "plt.figure(figsize=(8, 6))\n",
    "ax = sns.countplot(x=df_p.iloc[:, 6], hue=y, data=df_p)\n",
    "num_ticks = 6\n",
    "xticks = ax.get_xticks()\n",
    "xtick_labels = ax.get_xticklabels()\n",
    "step_size = max(1, int(len(xticks) / num_ticks))\n",
    "selected_ticks = xticks[::step_size]\n",
    "selected_labels = [int(float(xtick_labels[i].get_text())) for i in range(0, len(xticks), step_size)]\n",
    "ax.set_xticks(selected_ticks)\n",
    "ax.set_xticklabels(selected_labels)\n",
    "plt.xlabel('Oscore')\n",
    "plt.ylabel('Count')\n",
    "plt.title('Oscores of Psychdelic and Nonpsychedelic Users')\n",
    "plt.legend(title='Psychedelic Users')\n",
    "plt.show()"
   ]
  },
  {
   "cell_type": "markdown",
   "metadata": {},
   "source": [
    "## Conclusions and Recommendations"
   ]
  },
  {
   "cell_type": "markdown",
   "metadata": {},
   "source": [
    "Recruitment Strategy: The precision of 94% achieved by the logistic regression model indicates that the model is effective in identifying potential trial participants who are genuinely likely to experiment with psychedelics. The institute can focus on targeting individuals who exhibit characteristics associated with high precision, such as never having taken legal highs, nicotine, or amyl nitrites. These factors can be used as screening criteria during the recruitment process.\n",
    "\n",
    "Importance of Oscore: The Oscore coefficient with a magnitude of 0.5 indicates that it is one of the significant predictors of psychedelic use. Individuals with higher Oscores tend to be more inclined towards using psychedelics. Therefore, considering an individual's Oscore can contribute positively to the prediction of psychedelic usage. The institute can incorporate the assessment of Oscore into the screening process to further refine the selection of potential participants.\n",
    "\n",
    "Comparison of Oscore and Psychedelic Use: The analysis of the average Oscore for individuals who take psychedelics and those who do not reveals a notable difference. Individuals who take psychedelics have an average Oscore of 0.152, while those who do not have an average Oscore of -0.593. This indicates that Oscore may be a relevant factor in understanding the inclination towards psychedelic use. The institute can explore further research to investigate the relationship between Oscore and the therapeutic effects of psychedelic-assisted therapies."
   ]
  },
  {
   "cell_type": "markdown",
   "metadata": {},
   "source": []
  }
 ],
 "metadata": {
  "kernelspec": {
   "display_name": "Python 3",
   "language": "python",
   "name": "python3"
  },
  "language_info": {
   "codemirror_mode": {
    "name": "ipython",
    "version": 3
   },
   "file_extension": ".py",
   "mimetype": "text/x-python",
   "name": "python",
   "nbconvert_exporter": "python",
   "pygments_lexer": "ipython3",
   "version": "3.8.5"
  }
 },
 "nbformat": 4,
 "nbformat_minor": 4
}
